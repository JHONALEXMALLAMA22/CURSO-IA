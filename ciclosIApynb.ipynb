{
  "nbformat": 4,
  "nbformat_minor": 0,
  "metadata": {
    "colab": {
      "provenance": [],
      "authorship_tag": "ABX9TyNLRkoouhsNZxjeSnuJNFPn",
      "include_colab_link": true
    },
    "kernelspec": {
      "name": "python3",
      "display_name": "Python 3"
    },
    "language_info": {
      "name": "python"
    }
  },
  "cells": [
    {
      "cell_type": "markdown",
      "metadata": {
        "id": "view-in-github",
        "colab_type": "text"
      },
      "source": [
        "<a href=\"https://colab.research.google.com/github/JHONALEXMALLAMA22/CURSO-IA/blob/main/ciclosIApynb.ipynb\" target=\"_parent\"><img src=\"https://colab.research.google.com/assets/colab-badge.svg\" alt=\"Open In Colab\"/></a>"
      ]
    },
    {
      "cell_type": "code",
      "execution_count": null,
      "metadata": {
        "colab": {
          "base_uri": "https://localhost:8080/"
        },
        "id": "W4xPDX2MhBQz",
        "outputId": "ee341a92-0f71-4f2d-ad94-a0ae3c47b142"
      },
      "outputs": [
        {
          "output_type": "stream",
          "name": "stdout",
          "text": [
            "lunes\n",
            "dia de la semana\n",
            "martes\n",
            "dia de la semana\n",
            "miercoles\n",
            "dia de la semana\n",
            "jueves\n",
            "dia de la semana\n",
            "viernes\n",
            "dia de la semana\n",
            "sabado\n",
            "dia de la semana\n",
            "domingo\n",
            "dia de la semana\n",
            "fuera de ciclo for\n"
          ]
        }
      ],
      "source": [
        "\n",
        "cadena  = [\"lunes\",\"martes\",\"miercoles\",\"jueves\",\"viernes\",\"sabado\",\"domingo\"]\n",
        "\n",
        "# cadena[2]\n",
        "#identacion\n",
        "#seccion 1\n",
        "for i in  cadena:\n",
        "  print(i)\n",
        "  print(\"dia de la semana\")\n",
        "#seccion 2\n",
        "print(\"fuera de ciclo for\")\n",
        "\n"
      ]
    },
    {
      "cell_type": "code",
      "source": [
        "cadena  = [\"1,2,3,4,5\"]\n",
        "\n",
        "# cadena[2]\n",
        "#identacion\n",
        "#seccion 1\n",
        "for i in  cadena:\n",
        "  print(i)\n",
        "  print(\"dia de la semana\")\n",
        "#seccion 2\n",
        "print(\"fuera de ciclo for\")"
      ],
      "metadata": {
        "id": "kEVHE6vCtNqA",
        "colab": {
          "base_uri": "https://localhost:8080/"
        },
        "outputId": "87a90816-2c85-4635-f42e-be8d6324f1e4"
      },
      "execution_count": 10,
      "outputs": [
        {
          "output_type": "stream",
          "name": "stdout",
          "text": [
            "1,2,3,4,5\n",
            "dia de la semana\n",
            "fuera de ciclo for\n"
          ]
        }
      ]
    },
    {
      "cell_type": "code",
      "source": [
        "a = 0\n",
        "while a <=10:\n",
        "  print(a)\n",
        "  a = a+1\n",
        "print(\"el bucle while finalizo\")"
      ],
      "metadata": {
        "colab": {
          "base_uri": "https://localhost:8080/"
        },
        "id": "nmksDO8MtY9H",
        "outputId": "418e8904-4fe5-4631-a9e0-ac426fab656c"
      },
      "execution_count": null,
      "outputs": [
        {
          "output_type": "stream",
          "name": "stdout",
          "text": [
            "0\n",
            "1\n",
            "2\n",
            "3\n",
            "4\n",
            "5\n",
            "6\n",
            "7\n",
            "8\n",
            "9\n",
            "10\n",
            "el bucle while finalizo\n"
          ]
        }
      ]
    },
    {
      "cell_type": "code",
      "source": [
        "for i in range(0,10):\n",
        " print(f\"el exponente de {i} es:{i**2}\")\n",
        " if i  <=3:\n",
        "  break\n",
        "\n",
        "print(\"el bucle ha finalizado\")"
      ],
      "metadata": {
        "colab": {
          "base_uri": "https://localhost:8080/"
        },
        "id": "4CuWTfcNztUC",
        "outputId": "72a111e9-a7a1-4ce4-c59e-0e0ad3403ffa"
      },
      "execution_count": null,
      "outputs": [
        {
          "output_type": "stream",
          "name": "stdout",
          "text": [
            "el exponente de 0 es:0\n",
            "el bucle ha finalizado\n"
          ]
        }
      ]
    },
    {
      "cell_type": "code",
      "source": [
        "a=c"
      ],
      "metadata": {
        "id": "T-0jQBF0o6HA"
      },
      "execution_count": null,
      "outputs": []
    },
    {
      "cell_type": "code",
      "source": [
        "a"
      ],
      "metadata": {
        "id": "EdbMTPWzo4Eq"
      },
      "execution_count": null,
      "outputs": []
    },
    {
      "cell_type": "code",
      "source": [
        "#def comparar():\n",
        "  #print(\"esta es una funcion\")\n",
        "\n",
        " #invocar una funcion\n",
        " #comparar()\n",
        "\n",
        "# PROGRAMACION ESTRUCTURADA\n",
        "\n",
        "#def es la palabra reservada llamada (funcion)\n",
        "\n",
        "def comparar_letras(caracter,comparacion):\n",
        "  while caracter == \"a\":\n",
        "    print(\"se cumple la condicion\")\n",
        "    break\n",
        "\n",
        "caracter = \"a\"\n",
        "comparacion = \"b\"\n",
        "\n",
        "#invocar una funcion (con el nombre de la funcion)\n",
        "#pasar los argumentos (caracter,comparacion)\n",
        "comparar_letras(caracter,comparacion)"
      ],
      "metadata": {
        "colab": {
          "base_uri": "https://localhost:8080/"
        },
        "id": "QicL7DLEpB-j",
        "outputId": "8f8c2ca8-d246-490c-9dd8-dde63fa550bd"
      },
      "execution_count": 2,
      "outputs": [
        {
          "output_type": "stream",
          "name": "stdout",
          "text": [
            "se cumple la condicion\n"
          ]
        }
      ]
    },
    {
      "cell_type": "code",
      "source": [
        "#Codigo de funcion\n",
        "def comparar_numeros(inicio,fin,divisor):\n",
        " for i in range(inicio,fin):\n",
        "  if i % divisor == 0:\n",
        "    continue\n",
        " print(f\"el exponente de {i} es : {i**2}\")\n",
        "\n",
        "inicio = [1,2,3]\n",
        "fin = [10,100,200]\n",
        "divisor = [2,3,4]\n",
        "\n",
        "comparar_numeros(inicio[1],fin[0],divisor[2])"
      ],
      "metadata": {
        "colab": {
          "base_uri": "https://localhost:8080/"
        },
        "id": "nj7cxEjwsxQr",
        "outputId": "282bdbab-fa3f-4efd-c7c3-08229b094370"
      },
      "execution_count": 9,
      "outputs": [
        {
          "output_type": "stream",
          "name": "stdout",
          "text": [
            "el exponente de 9 es : 81\n"
          ]
        }
      ]
    },
    {
      "cell_type": "code",
      "source": [
        "def sumar(numero_uno, numero_dos):\n",
        "    suma = numero_uno + numero_dos\n",
        "    print(suma)\n",
        "\n",
        "numero_uno = [1,2,3,4,5,6,7,8,9]\n",
        "numero_dos = [4,5,6,7,8,9,10,11]\n",
        "\n",
        "sumar(numero_uno[1],numero_dos[3])"
      ],
      "metadata": {
        "colab": {
          "base_uri": "https://localhost:8080/"
        },
        "id": "piTQfuBjxDsS",
        "outputId": "6882b1dd-6410-4231-88d4-56c6f1890b5d"
      },
      "execution_count": 8,
      "outputs": [
        {
          "output_type": "stream",
          "name": "stdout",
          "text": [
            "9\n"
          ]
        }
      ]
    },
    {
      "cell_type": "code",
      "source": [
        "lista_uno = [1,2,3,4,5]\n",
        "\n",
        "def suma(sumar_numeros,lista_uno):\n",
        "  for i in numero_uno:\n",
        "    sumar_numeros  += i\n",
        "  print(f\"el valor de la suma es: {sumar_numeros}\")\n",
        "\n",
        "lista_uno = [1,2,3,4,5]\n",
        "sumar_numeros = 0\n",
        "\n",
        "suma(sumar_numeros,lista_uno)"
      ],
      "metadata": {
        "colab": {
          "base_uri": "https://localhost:8080/"
        },
        "id": "vU44Z5lKyREX",
        "outputId": "4be17529-e0e1-4228-eac0-f300ddb7fff4"
      },
      "execution_count": 15,
      "outputs": [
        {
          "output_type": "stream",
          "name": "stdout",
          "text": [
            "el valor de la suma es: 15\n"
          ]
        }
      ]
    },
    {
      "cell_type": "code",
      "source": [
        "def multiplicar(numero):\n",
        "  numero *= 2\n",
        "  print(numero)\n",
        "\n",
        "n = 10\n",
        "multiplicar(n)\n",
        "print(n)"
      ],
      "metadata": {
        "colab": {
          "base_uri": "https://localhost:8080/"
        },
        "id": "JDq9QSr78G4D",
        "outputId": "832dd8b4-e4e1-45a1-a9ee-a2e7a7c676d4"
      },
      "execution_count": 18,
      "outputs": [
        {
          "output_type": "stream",
          "name": "stdout",
          "text": [
            "20\n",
            "10\n"
          ]
        }
      ]
    },
    {
      "cell_type": "code",
      "source": [
        "def operacion(ns):\n",
        "  return ns*5\n",
        "\n",
        "ns = 5\n",
        "ns=operacion(ns)\n",
        "print(ns)"
      ],
      "metadata": {
        "colab": {
          "base_uri": "https://localhost:8080/"
        },
        "id": "_QHXrUOD8cXl",
        "outputId": "ee25e45e-5ed3-4306-ea03-a1ea703e5f44"
      },
      "execution_count": 19,
      "outputs": [
        {
          "output_type": "stream",
          "name": "stdout",
          "text": [
            "25\n"
          ]
        }
      ]
    },
    {
      "cell_type": "code",
      "source": [
        "ns =[10,50,100]\n",
        "\n",
        "def multiplicar(ns):\n",
        "\n",
        " for i,n in enumerate(ns):\n",
        "  ns[i] *=2\n",
        "  return ns[i]\n",
        "\n",
        "cp = multiplicar(ns[:])\n",
        "print(ns)\n",
        "print(cp)\n",
        "\n"
      ],
      "metadata": {
        "colab": {
          "base_uri": "https://localhost:8080/"
        },
        "id": "EyU6do5jAJ10",
        "outputId": "fe9cab59-cdbf-41d4-b369-475e61596278"
      },
      "execution_count": 30,
      "outputs": [
        {
          "output_type": "stream",
          "name": "stdout",
          "text": [
            "[10, 50, 100]\n",
            "20\n"
          ]
        }
      ]
    }
  ]
}