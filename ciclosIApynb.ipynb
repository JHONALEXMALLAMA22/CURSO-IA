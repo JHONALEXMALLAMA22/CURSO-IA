{
  "nbformat": 4,
  "nbformat_minor": 0,
  "metadata": {
    "colab": {
      "provenance": [],
      "authorship_tag": "ABX9TyNTl3pmVHO8o3bFWYwfY0R6",
      "include_colab_link": true
    },
    "kernelspec": {
      "name": "python3",
      "display_name": "Python 3"
    },
    "language_info": {
      "name": "python"
    }
  },
  "cells": [
    {
      "cell_type": "markdown",
      "metadata": {
        "id": "view-in-github",
        "colab_type": "text"
      },
      "source": [
        "<a href=\"https://colab.research.google.com/github/JHONALEXMALLAMA22/CURSO-IA/blob/main/ciclosIApynb.ipynb\" target=\"_parent\"><img src=\"https://colab.research.google.com/assets/colab-badge.svg\" alt=\"Open In Colab\"/></a>"
      ]
    },
    {
      "cell_type": "code",
      "execution_count": 8,
      "metadata": {
        "colab": {
          "base_uri": "https://localhost:8080/"
        },
        "id": "W4xPDX2MhBQz",
        "outputId": "ee341a92-0f71-4f2d-ad94-a0ae3c47b142"
      },
      "outputs": [
        {
          "output_type": "stream",
          "name": "stdout",
          "text": [
            "lunes\n",
            "dia de la semana\n",
            "martes\n",
            "dia de la semana\n",
            "miercoles\n",
            "dia de la semana\n",
            "jueves\n",
            "dia de la semana\n",
            "viernes\n",
            "dia de la semana\n",
            "sabado\n",
            "dia de la semana\n",
            "domingo\n",
            "dia de la semana\n",
            "fuera de ciclo for\n"
          ]
        }
      ],
      "source": [
        "\n",
        "cadena  = [\"lunes\",\"martes\",\"miercoles\",\"jueves\",\"viernes\",\"sabado\",\"domingo\"]\n",
        "\n",
        "# cadena[2]\n",
        "#identacion\n",
        "#seccion 1\n",
        "for i in  cadena:\n",
        "  print(i)\n",
        "  print(\"dia de la semana\")\n",
        "#seccion 2\n",
        "print(\"fuera de ciclo for\")\n",
        "\n"
      ]
    },
    {
      "cell_type": "code",
      "source": [
        "cadena  = [\"1,2,3,4,5\"]\n",
        "\n",
        "# cadena[2]\n",
        "#identacion\n",
        "#seccion 1\n",
        "for i in  cadena:\n",
        "  print(i)\n",
        "  print(\"dia de la semana\")\n",
        "#seccion 2\n",
        "print(\"fuera de ciclo for\")"
      ],
      "metadata": {
        "id": "kEVHE6vCtNqA"
      },
      "execution_count": null,
      "outputs": []
    },
    {
      "cell_type": "code",
      "source": [
        "a = 0\n",
        "while a <=10:\n",
        "  print(a)\n",
        "  a = a+1\n",
        "print(\"el bucle while finalizo\")"
      ],
      "metadata": {
        "colab": {
          "base_uri": "https://localhost:8080/"
        },
        "id": "nmksDO8MtY9H",
        "outputId": "418e8904-4fe5-4631-a9e0-ac426fab656c"
      },
      "execution_count": 10,
      "outputs": [
        {
          "output_type": "stream",
          "name": "stdout",
          "text": [
            "0\n",
            "1\n",
            "2\n",
            "3\n",
            "4\n",
            "5\n",
            "6\n",
            "7\n",
            "8\n",
            "9\n",
            "10\n",
            "el bucle while finalizo\n"
          ]
        }
      ]
    },
    {
      "cell_type": "code",
      "source": [
        "for i in range(0,10):\n",
        " print(f\"el exponente de {i} es:{i**2}\")\n",
        " if i  <=3:\n",
        "  break\n",
        "\n",
        "print(\"el bucle ha finalizado\")"
      ],
      "metadata": {
        "colab": {
          "base_uri": "https://localhost:8080/"
        },
        "id": "4CuWTfcNztUC",
        "outputId": "72a111e9-a7a1-4ce4-c59e-0e0ad3403ffa"
      },
      "execution_count": 12,
      "outputs": [
        {
          "output_type": "stream",
          "name": "stdout",
          "text": [
            "el exponente de 0 es:0\n",
            "el bucle ha finalizado\n"
          ]
        }
      ]
    }
  ]
}